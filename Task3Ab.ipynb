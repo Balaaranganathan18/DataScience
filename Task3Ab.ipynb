{
  "nbformat": 4,
  "nbformat_minor": 0,
  "metadata": {
    "colab": {
      "provenance": [],
      "mount_file_id": "1ktjn_Vy_wGB3FcUg7fORYjtp-jDIC0Sn",
      "authorship_tag": "ABX9TyPd4QaKxv9HBiWWBib6kD38",
      "include_colab_link": true
    },
    "kernelspec": {
      "name": "python3",
      "display_name": "Python 3"
    },
    "language_info": {
      "name": "python"
    }
  },
  "cells": [
    {
      "cell_type": "markdown",
      "metadata": {
        "id": "view-in-github",
        "colab_type": "text"
      },
      "source": [
        "<a href=\"https://colab.research.google.com/github/Balaaranganathan18/DataScience/blob/main/Task3Ab.ipynb\" target=\"_parent\"><img src=\"https://colab.research.google.com/assets/colab-badge.svg\" alt=\"Open In Colab\"/></a>"
      ]
    },
    {
      "cell_type": "code",
      "source": [
        "from google.colab import drive\n",
        "drive.mount('/content/drive')"
      ],
      "metadata": {
        "colab": {
          "base_uri": "https://localhost:8080/"
        },
        "id": "f77y_G6ZeVRW",
        "outputId": "d30d6300-5387-40da-dba5-a999a786d404"
      },
      "execution_count": null,
      "outputs": [
        {
          "output_type": "stream",
          "name": "stdout",
          "text": [
            "Drive already mounted at /content/drive; to attempt to forcibly remount, call drive.mount(\"/content/drive\", force_remount=True).\n"
          ]
        }
      ]
    },
    {
      "cell_type": "code",
      "execution_count": null,
      "metadata": {
        "id": "zmxoY3p5VlZx",
        "colab": {
          "base_uri": "https://localhost:8080/"
        },
        "outputId": "517389b3-1040-4d97-8233-ab7d4ac85e12"
      },
      "outputs": [
        {
          "output_type": "stream",
          "name": "stdout",
          "text": [
            "Unique package IDs with associated hotel details have been saved to '/content/drive/MyDrive/Untitled spreadsheet.xlsx'\n"
          ]
        }
      ],
      "source": [
        "import pandas as pd\n",
        "input_file = '/content/Test-Int-Package-Data (1).xlsx'\n",
        "df = pd.read_excel(input_file)\n",
        "\n",
        "\n",
        "package_hotels = {}\n",
        "\n",
        "for _, row in df.iterrows():\n",
        "    package_id = row['Package ID-1']\n",
        "    hotel_info = {\n",
        "        'hotel id': row['Hotel ID'],\n",
        "        'no of nights': row['SN-01'],\n",
        "        'hotel name': row['Property'],\n",
        "        'room category': row['Room Category'],\n",
        "        'price per night': row['IDR to INR (CP) - 1 Night']\n",
        "    }\n",
        "\n",
        "    if package_id in package_hotels:\n",
        "        package_hotels[package_id].append(hotel_info)\n",
        "    else:\n",
        "        package_hotels[package_id] = [hotel_info]\n",
        "\n",
        "unique_packages_data = []\n",
        "\n",
        "for package_id, hotels in package_hotels.items():\n",
        "    package_data = {\n",
        "        'package id': package_id,\n",
        "        'location': df.loc[df['Package ID-1'] == package_id, 'Location'].values[0],\n",
        "        'destination': df.loc[df['Package ID-1'] == package_id, 'Destination'].values[0],\n",
        "        'theme': \"Honeymoon\",\n",
        "    }\n",
        "\n",
        "    for i, hotel_info in enumerate(hotels, start=1):\n",
        "        package_data.update({\n",
        "            f'hotel id {i}': hotel_info['hotel id'],\n",
        "            f'no of nights {i}': hotel_info['no of nights'],\n",
        "            f'hotel name {i}': hotel_info['hotel name'],\n",
        "            f'room category {i}': hotel_info['room category'],\n",
        "            f'price per night {i}': hotel_info['price per night']\n",
        "        })\n",
        "\n",
        "    unique_packages_data.append(package_data)\n",
        "\n",
        "unique_packages_df = pd.DataFrame(unique_packages_data)\n",
        "\n",
        "\n",
        "output_file = '/content/drive/MyDrive/Untitled spreadsheet.xlsx'\n",
        "unique_packages_df.to_excel(output_file, index=False)\n",
        "\n",
        "print(f\"Unique package IDs with associated hotel details have been saved to '{output_file}'\")"
      ]
    }
  ]
}